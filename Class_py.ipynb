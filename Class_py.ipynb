{
  "nbformat": 4,
  "nbformat_minor": 0,
  "metadata": {
    "colab": {
      "name": "Untitled2.ipynb",
      "provenance": [],
      "authorship_tag": "ABX9TyMaTiBMu1Nh5A11oiVYdrPL",
      "include_colab_link": true
    },
    "kernelspec": {
      "name": "python3",
      "display_name": "Python 3"
    }
  },
  "cells": [
    {
      "cell_type": "markdown",
      "metadata": {
        "id": "view-in-github",
        "colab_type": "text"
      },
      "source": [
        "<a href=\"https://colab.research.google.com/github/smtmtc/hello-world/blob/main/Class_py.ipynb\" target=\"_parent\"><img src=\"https://colab.research.google.com/assets/colab-badge.svg\" alt=\"Open In Colab\"/></a>"
      ]
    },
    {
      "cell_type": "code",
      "metadata": {
        "id": "siD66uCdD7tm",
        "outputId": "e7d60f58-3963-4b10-95ef-276b019dc237",
        "colab": {
          "base_uri": "https://localhost:8080/",
          "height": 34
        }
      },
      "source": [
        "class Kucing:\n",
        "  '''Kucing adalah Hewan'''\n",
        "  jumlah_kaki = 0\n",
        "  Populasi = 0\n",
        "\n",
        "  def __init__(self, nama = \"tanpa nama\", motif = \"tidak diketahui\", suara = 'miaw'):\n",
        "    self.nama = nama\n",
        "    self.motif = motif\n",
        "    self.suara = suara\n",
        "    Kucing.Populasi += 1\n",
        "    Kucing.jumlah_kaki += 4\n",
        "\n",
        "  def populasi(self):\n",
        "    return Kucing.Populasi\n",
        "\n",
        "  def bunyi(self):\n",
        "    print (\"Bunyi kucing:\", self.suara)\n",
        "\n",
        "  def info(self):\n",
        "    print (\"nama:\", self.nama)\n",
        "    print (\"motif:\", self.motif)\n",
        "\n",
        "pet1 = Kucing(\"hamtaro\", \"abu-abu\")\n",
        "pet2 = Kucing(\"koko\", \"kuning\", \"mmm\")\n",
        "pet3 = Kucing()\n",
        "\n",
        "#pet1.info()\n",
        "#pet1.nama\n",
        "\n",
        "#print (Kucing.jumlah_kaki)\n",
        "\n",
        "print (pet1.populasi())"
      ],
      "execution_count": 24,
      "outputs": [
        {
          "output_type": "stream",
          "text": [
            "3\n"
          ],
          "name": "stdout"
        }
      ]
    }
  ]
}